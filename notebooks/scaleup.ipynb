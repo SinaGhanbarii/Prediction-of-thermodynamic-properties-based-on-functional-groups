{
 "cells": [
  {
   "cell_type": "code",
   "execution_count": 8,
   "id": "ad91e819",
   "metadata": {},
   "outputs": [],
   "source": [
    "import tarfile, pyarrow as pa, pyarrow.parquet as pq\n",
    "import numpy as np, tqdm\n",
    "\n",
    "# ---- minimal parser that skips rotA/B/C -------------------------------\n",
    "PROP_LABELS = [\n",
    "    \"mu\", \"alpha\", \"homo\", \"lumo\", \"gap\",\n",
    "    \"r2\", \"zpve\", \"U0\", \"U\", \"H\", \"G\", \"Cv\"\n",
    "]\n",
    "\n",
    "def parse_qm9_xyz_stream(f):\n",
    "    \"\"\"Read one QM9‑style .xyz from an *open binary stream*.\n",
    "       Returns (index, smiles, 12‑value list).\"\"\"\n",
    "    def _line():\n",
    "        return f.readline().decode(\"utf‑8\")\n",
    "\n",
    "    n_atoms = int(_line())            # 1st line\n",
    "    header  = _line().split('\\t')     # 2nd line\n",
    "    _, idx  = header[0].split()       # \"gdb 3895\"\n",
    "    idx     = int(idx)\n",
    "    values  = list(map(float, header[4:16]))     # skip 3 rot.const\n",
    "\n",
    "    for _ in range(n_atoms - 1):      # skip coords\n",
    "        f.readline()\n",
    "    penultimate = f.readline().decode(\"utf‑8\")\n",
    "    smiles      = penultimate.split('\\t')[0]\n",
    "    return idx, smiles, values\n"
   ]
  },
  {
   "cell_type": "code",
   "execution_count": 14,
   "id": "e14304e2",
   "metadata": {},
   "outputs": [],
   "source": [
    "tar_path     = \"dataset.tar.gz\"        # <‑‑ change to your archive\n",
    "parquet_path = \"qm9_trimmed.parquet\"   # output file name\n",
    "BATCH        = 11_000                   # rows per flush (adjust if you like)\n"
   ]
  },
  {
   "cell_type": "code",
   "execution_count": 15,
   "id": "943e3035",
   "metadata": {},
   "outputs": [
    {
     "name": "stderr",
     "output_type": "stream",
     "text": [
      "Parsing: 100%|██████████| 11002/11002 [00:00<00:00, 23635.84it/s]"
     ]
    },
    {
     "name": "stdout",
     "output_type": "stream",
     "text": [
      "✔ Done – wrote qm9_trimmed.parquet\n"
     ]
    },
    {
     "name": "stderr",
     "output_type": "stream",
     "text": [
      "\n"
     ]
    }
   ],
   "source": [
    "ids, smiles, props = [], [], []\n",
    "\n",
    "schema = pa.schema([\n",
    "    (\"index\",  pa.int32()),\n",
    "    (\"smiles\", pa.string()),\n",
    "    (\"props\",  pa.list_(pa.float32()))\n",
    "])\n",
    "writer = pq.ParquetWriter(parquet_path, schema, compression=\"zstd\")\n",
    "\n",
    "def flush():\n",
    "    global ids, smiles, props\n",
    "    table = pa.Table.from_pydict(\n",
    "        {\"index\": ids, \"smiles\": smiles, \"props\": props},\n",
    "        schema=schema\n",
    "    )\n",
    "    writer.write_table(table)\n",
    "    ids, smiles, props = [], [], []\n",
    "\n",
    "with tarfile.open(tar_path, \"r:*\") as tf:\n",
    "    for member in tqdm.tqdm(tf.getmembers(), desc=\"Parsing\"):\n",
    "        if not member.name.endswith(\".xyz\"):\n",
    "            continue\n",
    "        with tf.extractfile(member) as f:\n",
    "            idx, smi, vals = parse_qm9_xyz_stream(f)\n",
    "        ids.append(idx); smiles.append(smi); props.append(vals)\n",
    "        if len(ids) == BATCH:\n",
    "            flush()\n",
    "    if ids:                           # tail\n",
    "        flush()\n",
    "\n",
    "writer.close()\n",
    "print(\"✔ Done – wrote\", parquet_path)\n"
   ]
  },
  {
   "cell_type": "code",
   "execution_count": 16,
   "id": "a718321f",
   "metadata": {},
   "outputs": [
    {
     "name": "stdout",
     "output_type": "stream",
     "text": [
      "(11001, 3)\n"
     ]
    },
    {
     "data": {
      "application/vnd.microsoft.datawrangler.viewer.v0+json": {
       "columns": [
        {
         "name": "index",
         "rawType": "int64",
         "type": "integer"
        },
        {
         "name": "index",
         "rawType": "int32",
         "type": "integer"
        },
        {
         "name": "smiles",
         "rawType": "object",
         "type": "string"
        },
        {
         "name": "props",
         "rawType": "object",
         "type": "unknown"
        }
       ],
       "conversionMethod": "pd.DataFrame",
       "ref": "d7f8f46e-d474-498e-aff9-9e4e12d824bc",
       "rows": [
        [
         "0",
         "3895",
         "O",
         "[ 3.3067000e+00  4.6549999e+01 -2.6300001e-01 -6.0699999e-02\n  2.0230000e-01  9.6535669e+02  4.9003001e-02 -3.7543024e+02\n -3.7542114e+02 -3.7542023e+02 -3.7546994e+02  2.4943001e+01]"
        ],
        [
         "1",
         "3896",
         "H",
         "[ 2.4177001e+00  4.6660000e+01 -2.7010000e-01 -8.6099997e-02\n  1.8400000e-01  5.6751709e+02  5.5941001e-02 -3.7535919e+02\n -3.7535406e+02 -3.7535312e+02 -3.7538840e+02  1.7987000e+01]"
        ],
        [
         "2",
         "3897",
         "H",
         "[ 2.3860000e-01  4.8240002e+01 -2.6809999e-01 -1.0080000e-01\n  1.6740000e-01  5.7702869e+02  5.4949999e-02 -3.7530707e+02\n -3.7530191e+02 -3.7530096e+02 -3.7533609e+02  1.8514000e+01]"
        ],
        [
         "3",
         "3898",
         "H",
         "[ 1.5473000e+00  4.5279999e+01 -2.7140000e-01 -1.2000000e-01\n  1.5140000e-01  5.5663580e+02  4.1329999e-02 -3.9133789e+02\n -3.9133228e+02 -3.9133133e+02 -3.9136792e+02  1.9011999e+01]"
        ],
        [
         "4",
         "3899",
         "H",
         "[ 1.7309000e+00  4.1790001e+01 -2.9609999e-01 -5.7000000e-02\n  2.3909999e-01  9.1337567e+02  3.8631000e-02 -3.9151846e+02\n -3.9150955e+02 -3.9150861e+02 -3.9155811e+02  2.3419001e+01]"
        ]
       ],
       "shape": {
        "columns": 3,
        "rows": 5
       }
      },
      "text/html": [
       "<div>\n",
       "<style scoped>\n",
       "    .dataframe tbody tr th:only-of-type {\n",
       "        vertical-align: middle;\n",
       "    }\n",
       "\n",
       "    .dataframe tbody tr th {\n",
       "        vertical-align: top;\n",
       "    }\n",
       "\n",
       "    .dataframe thead th {\n",
       "        text-align: right;\n",
       "    }\n",
       "</style>\n",
       "<table border=\"1\" class=\"dataframe\">\n",
       "  <thead>\n",
       "    <tr style=\"text-align: right;\">\n",
       "      <th></th>\n",
       "      <th>index</th>\n",
       "      <th>smiles</th>\n",
       "      <th>props</th>\n",
       "    </tr>\n",
       "  </thead>\n",
       "  <tbody>\n",
       "    <tr>\n",
       "      <th>0</th>\n",
       "      <td>3895</td>\n",
       "      <td>O</td>\n",
       "      <td>[3.3067, 46.55, -0.263, -0.0607, 0.2023, 965.3...</td>\n",
       "    </tr>\n",
       "    <tr>\n",
       "      <th>1</th>\n",
       "      <td>3896</td>\n",
       "      <td>H</td>\n",
       "      <td>[2.4177, 46.66, -0.2701, -0.0861, 0.184, 567.5...</td>\n",
       "    </tr>\n",
       "    <tr>\n",
       "      <th>2</th>\n",
       "      <td>3897</td>\n",
       "      <td>H</td>\n",
       "      <td>[0.2386, 48.24, -0.2681, -0.1008, 0.1674, 577....</td>\n",
       "    </tr>\n",
       "    <tr>\n",
       "      <th>3</th>\n",
       "      <td>3898</td>\n",
       "      <td>H</td>\n",
       "      <td>[1.5473, 45.28, -0.2714, -0.12, 0.1514, 556.63...</td>\n",
       "    </tr>\n",
       "    <tr>\n",
       "      <th>4</th>\n",
       "      <td>3899</td>\n",
       "      <td>H</td>\n",
       "      <td>[1.7309, 41.79, -0.2961, -0.057, 0.2391, 913.3...</td>\n",
       "    </tr>\n",
       "  </tbody>\n",
       "</table>\n",
       "</div>"
      ],
      "text/plain": [
       "   index smiles                                              props\n",
       "0   3895      O  [3.3067, 46.55, -0.263, -0.0607, 0.2023, 965.3...\n",
       "1   3896      H  [2.4177, 46.66, -0.2701, -0.0861, 0.184, 567.5...\n",
       "2   3897      H  [0.2386, 48.24, -0.2681, -0.1008, 0.1674, 577....\n",
       "3   3898      H  [1.5473, 45.28, -0.2714, -0.12, 0.1514, 556.63...\n",
       "4   3899      H  [1.7309, 41.79, -0.2961, -0.057, 0.2391, 913.3..."
      ]
     },
     "execution_count": 16,
     "metadata": {},
     "output_type": "execute_result"
    }
   ],
   "source": [
    "import pandas as pd\n",
    "\n",
    "df = pd.read_parquet(\"qm9_trimmed.parquet\")\n",
    "print(df.shape)      # (11000, 3)  → index, smiles, props\n",
    "df.head()\n"
   ]
  },
  {
   "cell_type": "code",
   "execution_count": 21,
   "id": "258fcae7",
   "metadata": {},
   "outputs": [
    {
     "name": "stdout",
     "output_type": "stream",
     "text": [
      "(11001, 14)\n"
     ]
    }
   ],
   "source": [
    "props = pd.DataFrame(df[\"props\"].tolist(), columns=[\n",
    "    \"mu\", \"alpha\", \"homo\", \"lumo\", \"gap\",\n",
    "    \"r2\", \"zpve\", \"U0\", \"U\", \"H\", \"G\", \"Cv\"\n",
    "])\n",
    "full = pd.concat([df[[\"index\", \"smiles\"]], props], axis=1)\n",
    "\n",
    "print(full.shape)    # (11000, 15)  → index, smiles, 12 props\n",
    "\n",
    "# save to CSV (optional)\n",
    "full.to_csv(\"qm9_trimmed.csv\", index=False)\n"
   ]
  }
 ],
 "metadata": {
  "kernelspec": {
   "display_name": "Python 3",
   "language": "python",
   "name": "python3"
  },
  "language_info": {
   "codemirror_mode": {
    "name": "ipython",
    "version": 3
   },
   "file_extension": ".py",
   "mimetype": "text/x-python",
   "name": "python",
   "nbconvert_exporter": "python",
   "pygments_lexer": "ipython3",
   "version": "3.11.0"
  }
 },
 "nbformat": 4,
 "nbformat_minor": 5
}
