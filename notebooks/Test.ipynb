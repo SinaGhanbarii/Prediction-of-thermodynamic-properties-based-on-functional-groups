{
  "nbformat": 4,
  "nbformat_minor": 0,
  "metadata": {
    "colab": {
      "provenance": [],
      "authorship_tag": "ABX9TyMV5GPKlpVra2n+zEgQ085c",
      "include_colab_link": true
    },
    "kernelspec": {
      "name": "python3",
      "display_name": "Python 3"
    },
    "language_info": {
      "name": "python"
    }
  },
  "cells": [
    {
      "cell_type": "markdown",
      "metadata": {
        "id": "view-in-github",
        "colab_type": "text"
      },
      "source": [
        "<a href=\"https://colab.research.google.com/github/SinaGhanbarii/Prediction-of-thermodynamic-properties-based-on-functional-groups/blob/main/notebooks/Test.ipynb\" target=\"_parent\"><img src=\"https://colab.research.google.com/assets/colab-badge.svg\" alt=\"Open In Colab\"/></a>"
      ]
    },
    {
      "cell_type": "code",
      "execution_count": null,
      "metadata": {
        "id": "PxmsKMythY50"
      },
      "outputs": [],
      "source": [
        "#This is a test\n",
        "# I hope it works"
      ]
    }
  ]
}