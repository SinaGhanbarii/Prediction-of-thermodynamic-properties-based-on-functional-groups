{
 "cells": [
  {
   "cell_type": "code",
   "execution_count": 17,
   "id": "31385ce8",
   "metadata": {},
   "outputs": [],
   "source": [
    "import pandas as pd\n",
    "import numpy as np\n",
    "import matplotlib.pyplot as plt\n",
    "from sklearn.model_selection import train_test_split, GridSearchCV\n",
    "from sklearn.pipeline import Pipeline\n",
    "from sklearn.preprocessing import StandardScaler\n",
    "from sklearn.linear_model import Ridge\n",
    "from sklearn.ensemble import RandomForestRegressor\n",
    "from sklearn.metrics import mean_absolute_error, mean_squared_error, r2_score\n",
    "\n",
    "# Step 1: Load modified dataset\n",
    "df = pd.read_csv('dataset_modified.csv')\n",
    "\n",
    "# Step 2: Define features and target\n",
    "feature_cols = [c for c in df.columns if c.startswith('fg_') or c.startswith('n_')]\n",
    "target = 'H'  # predicting enthalpy\n",
    "X = df[feature_cols]\n",
    "y = df[target]\n",
    "\n"
   ]
  },
  {
   "cell_type": "code",
   "execution_count": 18,
   "id": "6ec0219f",
   "metadata": {},
   "outputs": [],
   "source": [
    "# Step 3: Train-Test Split\n",
    "X_train, X_test, y_train, y_test = train_test_split(\n",
    "    X, y, test_size=0.2, random_state=42\n",
    ")\n"
   ]
  },
  {
   "cell_type": "code",
   "execution_count": 19,
   "id": "7e53ba58",
   "metadata": {},
   "outputs": [],
   "source": [
    "\n",
    "# Step 4: Set up pipelines\n",
    "ridge_pipe = Pipeline([\n",
    "    ('scaler', StandardScaler()),\n",
    "    ('model', Ridge())\n",
    "])\n",
    "rf_pipe = Pipeline([\n",
    "    ('scaler', StandardScaler()),  # not strictly needed for RF\n",
    "    ('model', RandomForestRegressor(random_state=42))\n",
    "])\n",
    "\n"
   ]
  },
  {
   "cell_type": "code",
   "execution_count": null,
   "id": "047a6711",
   "metadata": {},
   "outputs": [],
   "source": [
    "# Step 5: Hyperparameter tuning setup\n",
    "ridge_params = {'model__alpha': [0.01, 0.1, 1.0, 10.0]}\n",
    "rf_params = {\n",
    "    'model__n_estimators': [100, 200],\n",
    "    'model__max_depth': [None, 10],\n",
    "    'model__min_samples_leaf': [1, 3]\n",
    "}\n",
    "\n",
    "ridge_search = GridSearchCV(ridge_pipe, ridge_params, cv=5, scoring='neg_mean_absolute_error', n_jobs=-1)\n",
    "rf_search = GridSearchCV(rf_pipe, rf_params, cv=5, scoring='neg_mean_absolute_error', n_jobs=-1)\n",
    "\n",
    "# Step 6: Fit models\n",
    "ridge_search.fit(X_train, y_train)\n",
    "rf_search.fit(X_train, y_train)\n",
    "\n",
    "\n"
   ]
  },
  {
   "cell_type": "code",
   "execution_count": null,
   "id": "8de7b111",
   "metadata": {},
   "outputs": [],
   "source": [
    "# Step 7: Evaluate on test set\n",
    "def evaluate(name, model, X_t, y_t):\n",
    "    y_pred = model.predict(X_t)\n",
    "    mae = mean_absolute_error(y_t, y_pred)\n",
    "    rmse = np.sqrt(mean_squared_error(y_t, y_pred))\n",
    "    r2 = r2_score(y_t, y_pred)\n",
    "    print(f\"{name}: MAE={mae:.3f}, RMSE={rmse:.3f}, R²={r2:.3f}\")\n",
    "\n",
    "print(\"Test Set Performance:\")\n",
    "evaluate('Ridge Regression', ridge_search.best_estimator_, X_test, y_test)\n",
    "evaluate('Random Forest', rf_search.best_estimator_, X_test, y_test)\n"
   ]
  },
  {
   "cell_type": "code",
   "execution_count": null,
   "id": "202a3e26",
   "metadata": {},
   "outputs": [],
   "source": [
    "# Step 8: Parity Plot for best model\n",
    "best_model = rf_search.best_estimator_ if rf_search.best_score_ > ridge_search.best_score_ else ridge_search.best_estimator_\n",
    "plt.figure(figsize=(6,6))\n",
    "plt.scatter(y_test, best_model.predict(X_test), alpha=0.5)\n",
    "plt.plot([y.min(), y.max()], [y.min(), y.max()], '--', color='grey')\n",
    "plt.xlabel('True H')\n",
    "plt.ylabel('Predicted H')\n",
    "plt.title('Parity Plot: Best Model')\n",
    "plt.tight_layout()\n",
    "plt.show()"
   ]
  }
 ],
 "metadata": {
  "kernelspec": {
   "display_name": "Python 3",
   "language": "python",
   "name": "python3"
  },
  "language_info": {
   "codemirror_mode": {
    "name": "ipython",
    "version": 3
   },
   "file_extension": ".py",
   "mimetype": "text/x-python",
   "name": "python",
   "nbconvert_exporter": "python",
   "pygments_lexer": "ipython3",
   "version": "3.11.0"
  }
 },
 "nbformat": 4,
 "nbformat_minor": 5
}
